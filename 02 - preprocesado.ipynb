{
  "nbformat": 4,
  "nbformat_minor": 0,
  "metadata": {
    "colab": {
      "provenance": [],
      "collapsed_sections": [
        "uuoj-mR9kL2L",
        "PAF-OrkBlR4F",
        "N8khJc4uuRGA",
        "x8ORKTmbudMQ",
        "4Uf5I6aKuoXp"
      ]
    },
    "kernelspec": {
      "name": "python3",
      "display_name": "Python 3"
    },
    "language_info": {
      "name": "python"
    }
  },
  "cells": [
    {
      "cell_type": "markdown",
      "source": [
        "# ENTREGA 2\n",
        "\n",
        "Objetivo: Cargar archivo `train.csv`, y realizar limpieza y preprocesado de datos."
      ],
      "metadata": {
        "id": "_hScEF1akCNU"
      }
    },
    {
      "cell_type": "markdown",
      "source": [
        "## 1. Datos faltantes"
      ],
      "metadata": {
        "id": "uuoj-mR9kL2L"
      }
    },
    {
      "cell_type": "code",
      "execution_count": 1,
      "metadata": {
        "colab": {
          "base_uri": "https://localhost:8080/"
        },
        "id": "Vl1YAhU9kBjX",
        "outputId": "ed157b5a-8709-4aeb-869f-5dc1c86c2988"
      },
      "outputs": [
        {
          "output_type": "stream",
          "name": "stderr",
          "text": [
            "Downloading...\n",
            "From (original): https://drive.google.com/uc?id=1GxZjpmMXIHHWNvbp5_H7AeL1dQPvA4uY\n",
            "From (redirected): https://drive.google.com/uc?id=1GxZjpmMXIHHWNvbp5_H7AeL1dQPvA4uY&confirm=t&uuid=cee691b3-b8f6-421c-9c25-34339fddf556\n",
            "To: /content/train.csv\n",
            "100%|██████████| 144M/144M [00:01<00:00, 135MB/s]\n"
          ]
        },
        {
          "output_type": "stream",
          "name": "stdout",
          "text": [
            "\n",
            "🔎 Se encontraron 11 columnas con datos faltantes:\n",
            "\n",
            "============================================================\n",
            "** Columna: ESTU_VALORMATRICULAUNIVERSIDAD **\n",
            "Tipo de dato: categórico (object)\n",
            "Distribución de valores:\n",
            " - Entre 1 millón y menos de 2.5 millones: 204048\n",
            " - Entre 2.5 millones y menos de 4 millones: 127430\n",
            " - Menos de 500 mil: 80263\n",
            " - Entre 500 mil y menos de 1 millón: 78704\n",
            " - Entre 4 millones y menos de 5.5 millones: 69736\n",
            " - Más de 7 millones: 68014\n",
            " - Entre 5.5 millones y menos de 7 millones: 38490\n",
            " - No pagó matrícula: 19528\n",
            "❌ Valores faltantes: 6287 (0.91%)\n",
            "** Recomendación de limpieza: ✅ Pocas categorías. Pocos faltantes. Imputar con la moda o crear categoría 'missing'. **\n",
            "============================================================\n",
            "\n",
            "============================================================\n",
            "** Columna: ESTU_HORASSEMANATRABAJA **\n",
            "Tipo de dato: categórico (object)\n",
            "Distribución de valores:\n",
            " - Más de 30 horas: 249352\n",
            " - 0: 116550\n",
            " - Entre 11 y 20 horas: 115857\n",
            " - Entre 21 y 30 horas: 92693\n",
            " - Menos de 10 horas: 87191\n",
            "❌ Valores faltantes: 30857 (4.46%)\n",
            "** Recomendación de limpieza: ✅ Pocas categorías. Pocos faltantes. Imputar con la moda o crear categoría 'missing'. **\n",
            "============================================================\n",
            "\n",
            "============================================================\n",
            "** Columna: FAMI_ESTRATOVIVIENDA **\n",
            "Tipo de dato: categórico (object)\n",
            "Distribución de valores:\n",
            " - Estrato 2: 232671\n",
            " - Estrato 3: 210685\n",
            " - Estrato 1: 111991\n",
            " - Estrato 4: 65514\n",
            " - Estrato 5: 23608\n",
            " - Estrato 6: 12605\n",
            " - Sin Estrato: 3289\n",
            "❌ Valores faltantes: 32137 (4.64%)\n",
            "** Recomendación de limpieza: ✅ Pocas categorías. Pocos faltantes. Imputar con la moda o crear categoría 'missing'. **\n",
            "============================================================\n",
            "\n",
            "============================================================\n",
            "** Columna: FAMI_TIENEINTERNET **\n",
            "Tipo de dato: categórico (object)\n",
            "Distribución de valores:\n",
            " - Si: 592514\n",
            " - No: 73357\n",
            "❌ Valores faltantes: 26629 (3.85%)\n",
            "** Recomendación de limpieza: ✅ Pocas categorías. Pocos faltantes. Imputar con la moda o crear categoría 'missing'. **\n",
            "============================================================\n",
            "\n",
            "============================================================\n",
            "** Columna: FAMI_EDUCACIONPADRE **\n",
            "Tipo de dato: categórico (object)\n",
            "Distribución de valores:\n",
            " - Secundaria (Bachillerato) completa: 128289\n",
            " - Primaria incompleta: 125675\n",
            " - Educación profesional completa: 83117\n",
            " - Secundaria (Bachillerato) incompleta: 71654\n",
            " - Técnica o tecnológica completa: 62995\n",
            " - Primaria completa: 55958\n",
            " - Postgrado: 44169\n",
            " - Educación profesional incompleta: 27084\n",
            " - Técnica o tecnológica incompleta: 22552\n",
            " - Ninguno: 22008\n",
            " - No sabe: 16592\n",
            " - No Aplica: 9229\n",
            "❌ Valores faltantes: 23178 (3.35%)\n",
            "** Recomendación de limpieza: ✅ Muchas categorías. Pocos faltantes. Agrupar o imputar con 'missing'. **\n",
            "============================================================\n",
            "\n",
            "============================================================\n",
            "** Columna: FAMI_TIENELAVADORA **\n",
            "Tipo de dato: categórico (object)\n",
            "Distribución de valores:\n",
            " - Si: 563390\n",
            " - No: 89337\n",
            "❌ Valores faltantes: 39773 (5.74%)\n",
            "** Recomendación de limpieza: ✅ Pocas categorías. Pocos faltantes. Imputar con la moda o crear categoría 'missing'. **\n",
            "============================================================\n",
            "\n",
            "============================================================\n",
            "** Columna: FAMI_TIENEAUTOMOVIL **\n",
            "Tipo de dato: categórico (object)\n",
            "Distribución de valores:\n",
            " - No: 412606\n",
            " - Si: 236271\n",
            "❌ Valores faltantes: 43623 (6.30%)\n",
            "** Recomendación de limpieza: ✅ Pocas categorías. Pocos faltantes. Imputar con la moda o crear categoría 'missing'. **\n",
            "============================================================\n",
            "\n",
            "============================================================\n",
            "** Columna: ESTU_PAGOMATRICULAPROPIO **\n",
            "Tipo de dato: categórico (object)\n",
            "Distribución de valores:\n",
            " - No: 382201\n",
            " - Si: 303801\n",
            "❌ Valores faltantes: 6498 (0.94%)\n",
            "** Recomendación de limpieza: ✅ Pocas categorías. Pocos faltantes. Imputar con la moda o crear categoría 'missing'. **\n",
            "============================================================\n",
            "\n",
            "============================================================\n",
            "** Columna: FAMI_TIENECOMPUTADOR **\n",
            "Tipo de dato: categórico (object)\n",
            "Distribución de valores:\n",
            " - Si: 597670\n",
            " - No: 56727\n",
            "❌ Valores faltantes: 38103 (5.50%)\n",
            "** Recomendación de limpieza: ✅ Pocas categorías. Pocos faltantes. Imputar con la moda o crear categoría 'missing'. **\n",
            "============================================================\n",
            "\n",
            "============================================================\n",
            "** Columna: FAMI_TIENEINTERNET.1 **\n",
            "Tipo de dato: categórico (object)\n",
            "Distribución de valores:\n",
            " - Si: 592514\n",
            " - No: 73357\n",
            "❌ Valores faltantes: 26629 (3.85%)\n",
            "** Recomendación de limpieza: ✅ Pocas categorías. Pocos faltantes. Imputar con la moda o crear categoría 'missing'. **\n",
            "============================================================\n",
            "\n",
            "============================================================\n",
            "** Columna: FAMI_EDUCACIONMADRE **\n",
            "Tipo de dato: categórico (object)\n",
            "Distribución de valores:\n",
            " - Secundaria (Bachillerato) completa: 141744\n",
            " - Primaria incompleta: 99420\n",
            " - Técnica o tecnológica completa: 89542\n",
            " - Educación profesional completa: 85326\n",
            " - Secundaria (Bachillerato) incompleta: 81012\n",
            " - Primaria completa: 56125\n",
            " - Postgrado: 46246\n",
            " - Técnica o tecnológica incompleta: 27533\n",
            " - Educación profesional incompleta: 22470\n",
            " - Ninguno: 14483\n",
            " - No sabe: 3017\n",
            " - No Aplica: 1918\n",
            "❌ Valores faltantes: 23664 (3.42%)\n",
            "** Recomendación de limpieza: ✅ Muchas categorías. Pocos faltantes. Agrupar o imputar con 'missing'. **\n",
            "============================================================\n",
            "\n"
          ]
        }
      ],
      "source": [
        "import pandas as pd\n",
        "import numpy as np\n",
        "import gdown\n",
        "\n",
        "# Descargar el train\n",
        "file_id = '1GxZjpmMXIHHWNvbp5_H7AeL1dQPvA4uY'\n",
        "gdown.download(f'https://drive.google.com/uc?id={file_id}', 'train.csv', quiet=False)\n",
        "\n",
        "# Cargar datos\n",
        "df = pd.read_csv(\"train.csv\")  # Asegúrate de que el archivo esté disponible\n",
        "\n",
        "# Identificar columnas con valores faltantes\n",
        "missing_data = df.isnull().sum()\n",
        "missing_data = missing_data[missing_data > 0]\n",
        "\n",
        "print(f\"\\n🔎 Se encontraron {len(missing_data)} columnas con datos faltantes:\\n\")\n",
        "\n",
        "# Análisis y recomendaciones\n",
        "for col in missing_data.index:\n",
        "    print(\"=\"*60)\n",
        "    print(f\"** Columna: {col} **\")\n",
        "\n",
        "    dtype = df[col].dtype\n",
        "    print(f\"Tipo de dato: {'categórico' if dtype == 'object' else 'numérico'} ({dtype})\")\n",
        "\n",
        "    # Contar frecuencias de los valores NO nulos\n",
        "    value_counts = df[col].value_counts(dropna=True)\n",
        "\n",
        "    print(\"Distribución de valores:\")\n",
        "    for val, count in value_counts.items():\n",
        "        val_str = str(val) if pd.notnull(val) else \"Sin dato\"\n",
        "        print(f\" - {val_str}: {count}\")\n",
        "\n",
        "    # Número de nulos\n",
        "    n_missing = df[col].isnull().sum()\n",
        "    perc_missing = n_missing / len(df) * 100\n",
        "    print(f\"❌ Valores faltantes: {n_missing} ({perc_missing:.2f}%)\")\n",
        "\n",
        "    # Recomendación automática según tipo y cantidad\n",
        "    if perc_missing > 60:\n",
        "        action = \"⚠️ Tiene demasiados valores faltantes. Considera eliminar la columna.\"\n",
        "    elif dtype == 'object':\n",
        "        if value_counts.shape[0] <= 10:\n",
        "            action = \"✅ Pocas categorías. Pocos faltantes. Imputar con la moda o crear categoría 'missing'.\"\n",
        "        else:\n",
        "            action = \"✅ Muchas categorías. Pocos faltantes. Agrupar o imputar con 'missing'.\"\n",
        "    else:\n",
        "        if perc_missing < 5:\n",
        "            action = \"✅ Pocos faltantes. Imputar con media o mediana.\"\n",
        "        else:\n",
        "            action = \"😵‍💫 Faltantes moderados. Imputar por media, mediana o regresión.\"\n",
        "\n",
        "    print(f\"** Recomendación de limpieza: {action} **\")\n",
        "    print(\"=\"*60 + \"\\n\")\n"
      ]
    },
    {
      "cell_type": "markdown",
      "source": [
        "## 2. Conclusiones del análisis de datos faltantes"
      ],
      "metadata": {
        "id": "PAF-OrkBlR4F"
      }
    },
    {
      "cell_type": "markdown",
      "source": [
        "### 2.1. General"
      ],
      "metadata": {
        "id": "N8khJc4uuRGA"
      }
    },
    {
      "cell_type": "markdown",
      "source": [
        "* Todos los datos faltantes detectados son de tipo **categórico**.\n",
        "* Las únicas columnas con datos numéricos son `ID`, `PERIODO`, `coef_1`, `coef_2`, `coef_3`, `coef_4`.\n",
        "* La **cantidad de datos faltantes por columna es baja** (menos del 7%), por lo que **no es necesario eliminar columnas ni registros**.\n",
        "* `FAMI_TIENEINTERNET.1` es una columna duplicada de `FAMI_TIENEINTERNET`.\n",
        "  `➤ Acción: Eliminar columna duplicada.`"
      ],
      "metadata": {
        "id": "gBTBbwX8uVTA"
      }
    },
    {
      "cell_type": "markdown",
      "source": [
        "### 2.2. Métodos de imputación adecuados según el contexto"
      ],
      "metadata": {
        "id": "_GzviKX6uYKg"
      }
    },
    {
      "cell_type": "markdown",
      "source": [
        "#### **2.2.1. Crear categoría `\"missing\"` (ausencia explícita)**\n",
        "\n",
        "Se recomienda cuando:\n",
        "\n",
        "* El valor tiene **importancia potencial**.\n",
        "* No puede ser asumido sin inducir sesgo.\n",
        "* La ausencia puede representar algo significativo."
      ],
      "metadata": {
        "id": "x8ORKTmbudMQ"
      }
    },
    {
      "cell_type": "markdown",
      "source": [
        "* `ESTU_VALORMATRICULAUNIVERSIDAD`: No es razonable asumir una categoría de matrícula si no se reportó. `➤ Acción: Crear categoría \"Sin información\".`\n",
        "\n",
        "* `ESTU_HORASSEMANATRABAJA`: La falta de respuesta podría estar asociada a condiciones laborales no formales. `➤ Acción: Crear categoría \"Sin información\".`\n",
        "\n",
        "* `FAMI_ESTRATOVIVIENDA`: El estrato es un fuerte indicador socioeconómico. No debe asumirse arbitrariamente. `➤ Acción: Crear categoría \"Sin información\".`\n",
        "\n",
        "* `FAMI_EDUCACIONPADRE`: Alta variedad de respuestas; mejor no asumir nada. `➤ Acción: Crear categoría \"No sabe / No responde\".`\n",
        "\n",
        "* `FAMI_EDUCACIONMADRE`: Mismo razonamiento que la anterior. `➤ Acción: Crear categoría \"No sabe / No responde\".`\n",
        "\n",
        "* `FAMI_TIENECOMPUTADOR`: Tener o no computador puede ser altamente informativo. `➤ Acción: Crear categoría \"Sin información\".`\n"
      ],
      "metadata": {
        "id": "XiVeyr_UuND4"
      }
    },
    {
      "cell_type": "markdown",
      "source": [
        "#### **2.2.2. Imputación con la moda (valor más frecuente)**\n",
        "\n",
        "Adecuado cuando:\n",
        "\n",
        "* La columna tiene pocas categorías.\n",
        "* El valor más frecuente representa una **mayoría aplastante**.\n",
        "* El impacto en el modelo por asumir ese valor es bajo."
      ],
      "metadata": {
        "id": "4Uf5I6aKuoXp"
      }
    },
    {
      "cell_type": "markdown",
      "source": [
        "* `FAMI_TIENELAVADORA`: “Sí” es claramente dominante. `➤ Acción: Imputar con la moda → \"Sí\".`\n",
        "\n",
        "* `ESTU_PAGOMATRICULAPROPIO`: Proporción pequeña de faltantes. Se puede asumir como \"No\". `➤ Acción: Imputar con la moda.`"
      ],
      "metadata": {
        "id": "0r-zeSKEuw9q"
      }
    },
    {
      "cell_type": "markdown",
      "source": [
        "#### **2.2.3. Casos dudosos (requieren prueba A/B o validación cruzada)**\n",
        "\n",
        "Se puede optar por **imputar con moda** o **crear categoría \"missing\"**, según el modelo, o evaluar ambos métodos."
      ],
      "metadata": {
        "id": "vIgwcu98uPeY"
      }
    },
    {
      "cell_type": "markdown",
      "source": [
        "* `FAMI_TIENEINTERNET`: Dominancia clara de “Sí”, pero su importancia puede ser crítica para algunos análisis. `➤ Acción sugerida: Probar tanto imputación con \"Sí\" como categoría \"Sin información\".`\n",
        "\n",
        "* `FAMI_TIENEAUTOMOVIL`: “No” es mayoría, pero tener carro es relevante en el contexto socioeconómico. `➤ Acción sugerida: Probar ambas estrategias — imputar \"No\" o crear categoría \"Sin información\".`"
      ],
      "metadata": {
        "id": "wRM6f8C2u6ur"
      }
    },
    {
      "cell_type": "markdown",
      "source": [
        "## 3. Limpieza y Preprocesado"
      ],
      "metadata": {
        "id": "37ijJmT4qUDl"
      }
    },
    {
      "cell_type": "code",
      "source": [
        "# Importar librerías\n",
        "\n",
        "import pandas as pd\n",
        "import numpy as np\n",
        "import matplotlib.pyplot as plt\n",
        "import seaborn as sns\n",
        "import gdown"
      ],
      "metadata": {
        "id": "J8q3dghpqWbl"
      },
      "execution_count": 2,
      "outputs": []
    },
    {
      "cell_type": "code",
      "source": [
        "# Descargar el train\n",
        "file_id = '1GxZjpmMXIHHWNvbp5_H7AeL1dQPvA4uY'\n",
        "gdown.download(f'https://drive.google.com/uc?id={file_id}', 'train.csv', quiet=False)"
      ],
      "metadata": {
        "colab": {
          "base_uri": "https://localhost:8080/",
          "height": 122
        },
        "id": "tIReXCrJD-LX",
        "outputId": "4de3bf67-4da7-4bdd-8b70-7613187425b1"
      },
      "execution_count": 3,
      "outputs": [
        {
          "output_type": "stream",
          "name": "stderr",
          "text": [
            "Downloading...\n",
            "From (original): https://drive.google.com/uc?id=1GxZjpmMXIHHWNvbp5_H7AeL1dQPvA4uY\n",
            "From (redirected): https://drive.google.com/uc?id=1GxZjpmMXIHHWNvbp5_H7AeL1dQPvA4uY&confirm=t&uuid=cfd15370-b805-4ae5-aecd-8be56afba8e5\n",
            "To: /content/train.csv\n",
            "100%|██████████| 144M/144M [00:00<00:00, 187MB/s]\n"
          ]
        },
        {
          "output_type": "execute_result",
          "data": {
            "text/plain": [
              "'train.csv'"
            ],
            "application/vnd.google.colaboratory.intrinsic+json": {
              "type": "string"
            }
          },
          "metadata": {},
          "execution_count": 3
        }
      ]
    },
    {
      "cell_type": "code",
      "source": [
        "# Cargar el conjunto de datos\n",
        "\n",
        "df = pd.read_csv('train.csv')\n",
        "\n",
        "# Eliminar columna duplicada\n",
        "\n",
        "if 'FAMI_TIENEINTERNET.1' in df.columns:\n",
        "    df.drop(columns=['FAMI_TIENEINTERNET.1'], inplace=True)"
      ],
      "metadata": {
        "id": "nkMnLufEv6Gs"
      },
      "execution_count": 4,
      "outputs": []
    },
    {
      "cell_type": "markdown",
      "source": [
        "### 3.1. Manejo de valores faltantes"
      ],
      "metadata": {
        "id": "d5ApxkKFxUVT"
      }
    },
    {
      "cell_type": "code",
      "source": [
        "# Casos seguros\n",
        "\n",
        "# 1. Categoría \"Mising\"\n",
        "\n",
        "missing_replacements = { # Diccionario: columnas y valor de reemplazo\n",
        "    'ESTU_VALORMATRICULAUNIVERSIDAD': 'Sin información',\n",
        "    'ESTU_HORASSEMANATRABAJA': 'Sin información',\n",
        "    'FAMI_ESTRATOVIVIENDA': 'Sin información',\n",
        "    'FAMI_EDUCACIONPADRE': 'No sabe / No responde',\n",
        "    'FAMI_EDUCACIONMADRE': 'No sabe / No responde',\n",
        "    'FAMI_TIENECOMPUTADOR': 'Sin información'\n",
        "}\n",
        "\n",
        "for col, missing_value in missing_replacements.items(): # Aplicar reemplazo con categoría explícita\n",
        "    df[col] = df[col].fillna(missing_value)\n",
        "\n",
        "\n",
        "# 2. Moda\n",
        "\n",
        "mode_columns = ['FAMI_TIENELAVADORA', 'ESTU_PAGOMATRICULAPROPIO'] # Columnas a imputar con la moda\n",
        "\n",
        "for col in mode_columns:\n",
        "    moda = df[col].mode()[0]\n",
        "    df[col] = df[col].fillna(moda)\n"
      ],
      "metadata": {
        "id": "CoCcUfEvwSY9"
      },
      "execution_count": 5,
      "outputs": []
    },
    {
      "cell_type": "code",
      "source": [
        "# Verificar que no hay datos faltantes después del preprocesado\n",
        "\n",
        "print(\"🔎 ¿Aún hay valores faltantes?\")\n",
        "print(df.isnull().sum().sort_values(ascending=False).head(10))  # top 10 por si acaso"
      ],
      "metadata": {
        "id": "TAlRusGaxiMd",
        "colab": {
          "base_uri": "https://localhost:8080/"
        },
        "outputId": "fd1f77a3-8df0-4cc3-9c25-52f978877492"
      },
      "execution_count": 6,
      "outputs": [
        {
          "output_type": "stream",
          "name": "stdout",
          "text": [
            "🔎 ¿Aún hay valores faltantes?\n",
            "FAMI_TIENEAUTOMOVIL               43623\n",
            "FAMI_TIENEINTERNET                26629\n",
            "ID                                    0\n",
            "PERIODO                               0\n",
            "ESTU_PRGM_DEPARTAMENTO                0\n",
            "ESTU_PRGM_ACADEMICO                   0\n",
            "ESTU_HORASSEMANATRABAJA               0\n",
            "ESTU_VALORMATRICULAUNIVERSIDAD        0\n",
            "FAMI_ESTRATOVIVIENDA                  0\n",
            "FAMI_EDUCACIONPADRE                   0\n",
            "dtype: int64\n"
          ]
        }
      ]
    },
    {
      "cell_type": "markdown",
      "source": [
        "#### 3.1.1 Casos Dudosos"
      ],
      "metadata": {
        "id": "734O5sRH4uMc"
      }
    },
    {
      "cell_type": "markdown",
      "source": [
        "**Comparar rendimiento (missing vs moda)**"
      ],
      "metadata": {
        "id": "Gcf1E3OU4z6M"
      }
    },
    {
      "cell_type": "code",
      "source": [
        "# 1. Librerías adicionales\n",
        "\n",
        "from sklearn.ensemble import RandomForestClassifier\n",
        "from sklearn.model_selection import cross_val_score\n",
        "from sklearn.preprocessing import LabelEncoder\n",
        "from sklearn.metrics import accuracy_score\n",
        "\n",
        "# -------------------------------------------------------------------------------------------------------------\n",
        "\n",
        "# 2. Preprocesamiento básico para comparación\n",
        "\n",
        "# Copias de los dos DataFrames para prueba\n",
        "df_missing_test = df.copy()\n",
        "df_mode_test = df.copy()\n",
        "\n",
        "# Aplicar imputación por categoría explícita (\"missing\")\n",
        "df_missing_test['FAMI_TIENEINTERNET'] = df_missing_test['FAMI_TIENEINTERNET'].fillna('Sin información')\n",
        "df_missing_test['FAMI_TIENEAUTOMOVIL'] = df_missing_test['FAMI_TIENEAUTOMOVIL'].fillna('Sin información')\n",
        "\n",
        "# Aplicar imputación con la moda\n",
        "for col in ['FAMI_TIENEINTERNET', 'FAMI_TIENEAUTOMOVIL']:\n",
        "    moda = df_mode_test[col].mode()[0]\n",
        "    df_mode_test[col] = df_mode_test[col].fillna(moda)\n",
        "\n",
        "# -------------------------------------------------------------------------------------------------------------\n",
        "\n",
        "# 3. Codificar las variables categóricas\n",
        "\n",
        "def encode_dataframe(df, target):\n",
        "    df_encoded = df.copy()\n",
        "    le_dict = {}\n",
        "    for col in df_encoded.columns:\n",
        "        if df_encoded[col].dtype == 'object' and col != target:\n",
        "            le = LabelEncoder()\n",
        "            df_encoded[col] = le.fit_transform(df_encoded[col].astype(str))\n",
        "            le_dict[col] = le\n",
        "    return df_encoded\n",
        "\n",
        "# -------------------------------------------------------------------------------------------------------------\n",
        "\n",
        "# 4. Configurar modelo y validación\n",
        "\n",
        "# Definir columna objetivo\n",
        "target = 'RENDIMIENTO_GLOBAL'\n",
        "\n",
        "# Filtrar columnas válidas (remover ID y otras numéricas irrelevantes si es necesario)\n",
        "features = [col for col in df.columns if col not in ['ID', 'PERIODO', 'coef_1', 'coef_2', 'coef_3', 'coef_4', target]]\n",
        "\n",
        "# Codificar datasets\n",
        "df_missing_encoded = encode_dataframe(df_missing_test[features + [target]], target)\n",
        "df_mode_encoded = encode_dataframe(df_mode_test[features + [target]], target)\n",
        "\n",
        "# Separar X, y\n",
        "X_missing = df_missing_encoded.drop(columns=[target])\n",
        "y_missing = df_missing_encoded[target]\n",
        "\n",
        "X_mode = df_mode_encoded.drop(columns=[target])\n",
        "y_mode = df_mode_encoded[target]\n",
        "\n",
        "# Modelo base\n",
        "model = RandomForestClassifier(n_estimators=100, random_state=42, n_jobs=-1)\n",
        "\n",
        "# Validación cruzada (3 folds)\n",
        "scores_missing = cross_val_score(model, X_missing, y_missing, cv=3, scoring='accuracy')\n",
        "scores_mode = cross_val_score(model, X_mode, y_mode, cv=3, scoring='accuracy')\n",
        "\n",
        "# -------------------------------------------------------------------------------------------------------------\n",
        "\n",
        "# 5. Resultados y conclusión\n",
        "\n",
        "print(\"🔎 Resultados de validación cruzada (Accuracy promedio)\")\n",
        "print(f\"Categoría 'missing': {scores_missing.mean():.4f}\")\n",
        "print(f\"Moda:               {scores_mode.mean():.4f}\")\n",
        "\n",
        "if scores_missing.mean() > scores_mode.mean():\n",
        "    print(\"\\n✅ Conclusión: Es mejor imputar con categoría 'missing'.\")\n",
        "elif scores_missing.mean() < scores_mode.mean():\n",
        "    print(\"\\n✅ Conclusión: Es mejor imputar con la moda.\")\n",
        "else:\n",
        "    print(\"\\n😵‍💫 Conclusión: Ambos métodos tienen un rendimiento similar.\")\n"
      ],
      "metadata": {
        "colab": {
          "base_uri": "https://localhost:8080/"
        },
        "id": "q0mY_Dwu4y2d",
        "outputId": "c8624716-09bb-4d93-d07e-ce269dd7a7fd"
      },
      "execution_count": 7,
      "outputs": [
        {
          "output_type": "stream",
          "name": "stdout",
          "text": [
            "🔎 Resultados de validación cruzada (Accuracy promedio)\n",
            "Categoría 'missing': 0.3768\n",
            "Moda:               0.3761\n",
            "\n",
            "✅ Conclusión: Es mejor imputar con categoría 'missing'.\n"
          ]
        }
      ]
    },
    {
      "cell_type": "markdown",
      "source": [
        "**Conclusión:**\n",
        "\n",
        "- Para `FAMI_TIENEINTERNET` es mejor: imputar con una categoría explícita `\"Sin información\"`, ya que obtuvo un mayor accuracy promedio en validación cruzada (0.3780 vs 0.3769).\n",
        "- Para `FAMI_TIENEAUTOMOVIL` es mejor: imputar también con la categoría `\"Sin información\"`, dado que se incluyó en el mismo experimento y mostró mejor rendimiento frente a la imputación por moda."
      ],
      "metadata": {
        "id": "VVHIc921xBWT"
      }
    },
    {
      "cell_type": "markdown",
      "source": [
        "**Aplicar métodos que mejor tuvieron rendimiento:**"
      ],
      "metadata": {
        "id": "3Z-kiaUB5p0D"
      }
    },
    {
      "cell_type": "code",
      "source": [
        "# Imputar valor \"Sin información\" en las columnas seleccionadas\n",
        "df['FAMI_TIENEINTERNET'] = df['FAMI_TIENEINTERNET'].fillna('Sin información')\n",
        "df['FAMI_TIENEAUTOMOVIL'] = df['FAMI_TIENEAUTOMOVIL'].fillna('Sin información')\n",
        "print(df[['FAMI_TIENEINTERNET', 'FAMI_TIENEAUTOMOVIL']].isnull().sum())"
      ],
      "metadata": {
        "colab": {
          "base_uri": "https://localhost:8080/"
        },
        "id": "R7DTyIJf5unD",
        "outputId": "42e3e9bf-1819-4bd4-ad07-24e30f57f4e2"
      },
      "execution_count": null,
      "outputs": [
        {
          "output_type": "stream",
          "name": "stdout",
          "text": [
            "FAMI_TIENEINTERNET     0\n",
            "FAMI_TIENEAUTOMOVIL    0\n",
            "dtype: int64\n"
          ]
        }
      ]
    },
    {
      "cell_type": "code",
      "source": [
        "# Volver a verificar que no hay datos faltantes después del preprocesado\n",
        "\n",
        "print(\"🔎 ¿Aún hay valores faltantes?\")\n",
        "print(df.isnull().sum().sort_values(ascending=False).head(10))"
      ],
      "metadata": {
        "colab": {
          "base_uri": "https://localhost:8080/"
        },
        "id": "cExFU4BOAh6Y",
        "outputId": "56a3cc3c-9a07-4d6d-d921-250d98d7c317"
      },
      "execution_count": null,
      "outputs": [
        {
          "output_type": "stream",
          "name": "stdout",
          "text": [
            "🔎 ¿Aún hay valores faltantes?\n",
            "ID                                0\n",
            "PERIODO                           0\n",
            "ESTU_PRGM_ACADEMICO               0\n",
            "ESTU_PRGM_DEPARTAMENTO            0\n",
            "ESTU_VALORMATRICULAUNIVERSIDAD    0\n",
            "ESTU_HORASSEMANATRABAJA           0\n",
            "FAMI_ESTRATOVIVIENDA              0\n",
            "FAMI_TIENEINTERNET                0\n",
            "FAMI_EDUCACIONPADRE               0\n",
            "FAMI_TIENELAVADORA                0\n",
            "dtype: int64\n"
          ]
        }
      ]
    },
    {
      "cell_type": "markdown",
      "source": [
        "### 3.2. Guardar dataset procesado"
      ],
      "metadata": {
        "id": "IpqrpKlyxtAW"
      }
    },
    {
      "cell_type": "code",
      "source": [
        "# Guardar archivo limpio\n",
        "\n",
        "df.to_csv(\"datos_procesados.csv\", index=False)"
      ],
      "metadata": {
        "id": "8fw3k1IdxCyD"
      },
      "execution_count": null,
      "outputs": []
    },
    {
      "cell_type": "markdown",
      "source": [
        "### 3.3. Visualización"
      ],
      "metadata": {
        "id": "iEb4Vcy8yqLW"
      }
    },
    {
      "cell_type": "code",
      "source": [
        "# Mostrar información final\n",
        "\n",
        "df.head()"
      ],
      "metadata": {
        "id": "C4f-ZSINyr-t",
        "colab": {
          "base_uri": "https://localhost:8080/",
          "height": 313
        },
        "outputId": "27a32234-1c72-46d0-b5c5-1d18c150240b"
      },
      "execution_count": null,
      "outputs": [
        {
          "output_type": "execute_result",
          "data": {
            "text/plain": [
              "       ID  PERIODO         ESTU_PRGM_ACADEMICO ESTU_PRGM_DEPARTAMENTO  \\\n",
              "0  904256    20212                  ENFERMERIA                 BOGOTÁ   \n",
              "1  645256    20212                     DERECHO              ATLANTICO   \n",
              "2  308367    20203       MERCADEO Y PUBLICIDAD                 BOGOTÁ   \n",
              "3  470353    20195  ADMINISTRACION DE EMPRESAS              SANTANDER   \n",
              "4  989032    20212                  PSICOLOGIA              ANTIOQUIA   \n",
              "\n",
              "             ESTU_VALORMATRICULAUNIVERSIDAD ESTU_HORASSEMANATRABAJA  \\\n",
              "0  Entre 5.5 millones y menos de 7 millones       Menos de 10 horas   \n",
              "1  Entre 2.5 millones y menos de 4 millones                       0   \n",
              "2  Entre 2.5 millones y menos de 4 millones         Más de 30 horas   \n",
              "3  Entre 4 millones y menos de 5.5 millones                       0   \n",
              "4  Entre 2.5 millones y menos de 4 millones     Entre 21 y 30 horas   \n",
              "\n",
              "  FAMI_ESTRATOVIVIENDA FAMI_TIENEINTERNET                 FAMI_EDUCACIONPADRE  \\\n",
              "0            Estrato 3                 Si    Técnica o tecnológica incompleta   \n",
              "1            Estrato 3                 No      Técnica o tecnológica completa   \n",
              "2            Estrato 3                 Si  Secundaria (Bachillerato) completa   \n",
              "3            Estrato 4                 Si                             No sabe   \n",
              "4            Estrato 3                 Si                   Primaria completa   \n",
              "\n",
              "  FAMI_TIENELAVADORA FAMI_TIENEAUTOMOVIL ESTU_PRIVADO_LIBERTAD  \\\n",
              "0                 Si                  Si                     N   \n",
              "1                 Si                  No                     N   \n",
              "2                 Si                  No                     N   \n",
              "3                 Si                  No                     N   \n",
              "4                 Si                  Si                     N   \n",
              "\n",
              "  ESTU_PAGOMATRICULAPROPIO FAMI_TIENECOMPUTADOR  \\\n",
              "0                       No                   Si   \n",
              "1                       No                   Si   \n",
              "2                       No                   No   \n",
              "3                       No                   Si   \n",
              "4                       No                   Si   \n",
              "\n",
              "                  FAMI_EDUCACIONMADRE RENDIMIENTO_GLOBAL  coef_1  coef_2  \\\n",
              "0                           Postgrado         medio-alto   0.322   0.208   \n",
              "1    Técnica o tecnológica incompleta               bajo   0.311   0.215   \n",
              "2  Secundaria (Bachillerato) completa               bajo   0.297   0.214   \n",
              "3  Secundaria (Bachillerato) completa               alto   0.485   0.172   \n",
              "4                   Primaria completa         medio-bajo   0.316   0.232   \n",
              "\n",
              "   coef_3  coef_4  \n",
              "0   0.310   0.267  \n",
              "1   0.292   0.264  \n",
              "2   0.305   0.264  \n",
              "3   0.252   0.190  \n",
              "4   0.285   0.294  "
            ],
            "text/html": [
              "\n",
              "  <div id=\"df-93c17e18-073a-436d-ac8f-115af45ced47\" class=\"colab-df-container\">\n",
              "    <div>\n",
              "<style scoped>\n",
              "    .dataframe tbody tr th:only-of-type {\n",
              "        vertical-align: middle;\n",
              "    }\n",
              "\n",
              "    .dataframe tbody tr th {\n",
              "        vertical-align: top;\n",
              "    }\n",
              "\n",
              "    .dataframe thead th {\n",
              "        text-align: right;\n",
              "    }\n",
              "</style>\n",
              "<table border=\"1\" class=\"dataframe\">\n",
              "  <thead>\n",
              "    <tr style=\"text-align: right;\">\n",
              "      <th></th>\n",
              "      <th>ID</th>\n",
              "      <th>PERIODO</th>\n",
              "      <th>ESTU_PRGM_ACADEMICO</th>\n",
              "      <th>ESTU_PRGM_DEPARTAMENTO</th>\n",
              "      <th>ESTU_VALORMATRICULAUNIVERSIDAD</th>\n",
              "      <th>ESTU_HORASSEMANATRABAJA</th>\n",
              "      <th>FAMI_ESTRATOVIVIENDA</th>\n",
              "      <th>FAMI_TIENEINTERNET</th>\n",
              "      <th>FAMI_EDUCACIONPADRE</th>\n",
              "      <th>FAMI_TIENELAVADORA</th>\n",
              "      <th>FAMI_TIENEAUTOMOVIL</th>\n",
              "      <th>ESTU_PRIVADO_LIBERTAD</th>\n",
              "      <th>ESTU_PAGOMATRICULAPROPIO</th>\n",
              "      <th>FAMI_TIENECOMPUTADOR</th>\n",
              "      <th>FAMI_EDUCACIONMADRE</th>\n",
              "      <th>RENDIMIENTO_GLOBAL</th>\n",
              "      <th>coef_1</th>\n",
              "      <th>coef_2</th>\n",
              "      <th>coef_3</th>\n",
              "      <th>coef_4</th>\n",
              "    </tr>\n",
              "  </thead>\n",
              "  <tbody>\n",
              "    <tr>\n",
              "      <th>0</th>\n",
              "      <td>904256</td>\n",
              "      <td>20212</td>\n",
              "      <td>ENFERMERIA</td>\n",
              "      <td>BOGOTÁ</td>\n",
              "      <td>Entre 5.5 millones y menos de 7 millones</td>\n",
              "      <td>Menos de 10 horas</td>\n",
              "      <td>Estrato 3</td>\n",
              "      <td>Si</td>\n",
              "      <td>Técnica o tecnológica incompleta</td>\n",
              "      <td>Si</td>\n",
              "      <td>Si</td>\n",
              "      <td>N</td>\n",
              "      <td>No</td>\n",
              "      <td>Si</td>\n",
              "      <td>Postgrado</td>\n",
              "      <td>medio-alto</td>\n",
              "      <td>0.322</td>\n",
              "      <td>0.208</td>\n",
              "      <td>0.310</td>\n",
              "      <td>0.267</td>\n",
              "    </tr>\n",
              "    <tr>\n",
              "      <th>1</th>\n",
              "      <td>645256</td>\n",
              "      <td>20212</td>\n",
              "      <td>DERECHO</td>\n",
              "      <td>ATLANTICO</td>\n",
              "      <td>Entre 2.5 millones y menos de 4 millones</td>\n",
              "      <td>0</td>\n",
              "      <td>Estrato 3</td>\n",
              "      <td>No</td>\n",
              "      <td>Técnica o tecnológica completa</td>\n",
              "      <td>Si</td>\n",
              "      <td>No</td>\n",
              "      <td>N</td>\n",
              "      <td>No</td>\n",
              "      <td>Si</td>\n",
              "      <td>Técnica o tecnológica incompleta</td>\n",
              "      <td>bajo</td>\n",
              "      <td>0.311</td>\n",
              "      <td>0.215</td>\n",
              "      <td>0.292</td>\n",
              "      <td>0.264</td>\n",
              "    </tr>\n",
              "    <tr>\n",
              "      <th>2</th>\n",
              "      <td>308367</td>\n",
              "      <td>20203</td>\n",
              "      <td>MERCADEO Y PUBLICIDAD</td>\n",
              "      <td>BOGOTÁ</td>\n",
              "      <td>Entre 2.5 millones y menos de 4 millones</td>\n",
              "      <td>Más de 30 horas</td>\n",
              "      <td>Estrato 3</td>\n",
              "      <td>Si</td>\n",
              "      <td>Secundaria (Bachillerato) completa</td>\n",
              "      <td>Si</td>\n",
              "      <td>No</td>\n",
              "      <td>N</td>\n",
              "      <td>No</td>\n",
              "      <td>No</td>\n",
              "      <td>Secundaria (Bachillerato) completa</td>\n",
              "      <td>bajo</td>\n",
              "      <td>0.297</td>\n",
              "      <td>0.214</td>\n",
              "      <td>0.305</td>\n",
              "      <td>0.264</td>\n",
              "    </tr>\n",
              "    <tr>\n",
              "      <th>3</th>\n",
              "      <td>470353</td>\n",
              "      <td>20195</td>\n",
              "      <td>ADMINISTRACION DE EMPRESAS</td>\n",
              "      <td>SANTANDER</td>\n",
              "      <td>Entre 4 millones y menos de 5.5 millones</td>\n",
              "      <td>0</td>\n",
              "      <td>Estrato 4</td>\n",
              "      <td>Si</td>\n",
              "      <td>No sabe</td>\n",
              "      <td>Si</td>\n",
              "      <td>No</td>\n",
              "      <td>N</td>\n",
              "      <td>No</td>\n",
              "      <td>Si</td>\n",
              "      <td>Secundaria (Bachillerato) completa</td>\n",
              "      <td>alto</td>\n",
              "      <td>0.485</td>\n",
              "      <td>0.172</td>\n",
              "      <td>0.252</td>\n",
              "      <td>0.190</td>\n",
              "    </tr>\n",
              "    <tr>\n",
              "      <th>4</th>\n",
              "      <td>989032</td>\n",
              "      <td>20212</td>\n",
              "      <td>PSICOLOGIA</td>\n",
              "      <td>ANTIOQUIA</td>\n",
              "      <td>Entre 2.5 millones y menos de 4 millones</td>\n",
              "      <td>Entre 21 y 30 horas</td>\n",
              "      <td>Estrato 3</td>\n",
              "      <td>Si</td>\n",
              "      <td>Primaria completa</td>\n",
              "      <td>Si</td>\n",
              "      <td>Si</td>\n",
              "      <td>N</td>\n",
              "      <td>No</td>\n",
              "      <td>Si</td>\n",
              "      <td>Primaria completa</td>\n",
              "      <td>medio-bajo</td>\n",
              "      <td>0.316</td>\n",
              "      <td>0.232</td>\n",
              "      <td>0.285</td>\n",
              "      <td>0.294</td>\n",
              "    </tr>\n",
              "  </tbody>\n",
              "</table>\n",
              "</div>\n",
              "    <div class=\"colab-df-buttons\">\n",
              "\n",
              "  <div class=\"colab-df-container\">\n",
              "    <button class=\"colab-df-convert\" onclick=\"convertToInteractive('df-93c17e18-073a-436d-ac8f-115af45ced47')\"\n",
              "            title=\"Convert this dataframe to an interactive table.\"\n",
              "            style=\"display:none;\">\n",
              "\n",
              "  <svg xmlns=\"http://www.w3.org/2000/svg\" height=\"24px\" viewBox=\"0 -960 960 960\">\n",
              "    <path d=\"M120-120v-720h720v720H120Zm60-500h600v-160H180v160Zm220 220h160v-160H400v160Zm0 220h160v-160H400v160ZM180-400h160v-160H180v160Zm440 0h160v-160H620v160ZM180-180h160v-160H180v160Zm440 0h160v-160H620v160Z\"/>\n",
              "  </svg>\n",
              "    </button>\n",
              "\n",
              "  <style>\n",
              "    .colab-df-container {\n",
              "      display:flex;\n",
              "      gap: 12px;\n",
              "    }\n",
              "\n",
              "    .colab-df-convert {\n",
              "      background-color: #E8F0FE;\n",
              "      border: none;\n",
              "      border-radius: 50%;\n",
              "      cursor: pointer;\n",
              "      display: none;\n",
              "      fill: #1967D2;\n",
              "      height: 32px;\n",
              "      padding: 0 0 0 0;\n",
              "      width: 32px;\n",
              "    }\n",
              "\n",
              "    .colab-df-convert:hover {\n",
              "      background-color: #E2EBFA;\n",
              "      box-shadow: 0px 1px 2px rgba(60, 64, 67, 0.3), 0px 1px 3px 1px rgba(60, 64, 67, 0.15);\n",
              "      fill: #174EA6;\n",
              "    }\n",
              "\n",
              "    .colab-df-buttons div {\n",
              "      margin-bottom: 4px;\n",
              "    }\n",
              "\n",
              "    [theme=dark] .colab-df-convert {\n",
              "      background-color: #3B4455;\n",
              "      fill: #D2E3FC;\n",
              "    }\n",
              "\n",
              "    [theme=dark] .colab-df-convert:hover {\n",
              "      background-color: #434B5C;\n",
              "      box-shadow: 0px 1px 3px 1px rgba(0, 0, 0, 0.15);\n",
              "      filter: drop-shadow(0px 1px 2px rgba(0, 0, 0, 0.3));\n",
              "      fill: #FFFFFF;\n",
              "    }\n",
              "  </style>\n",
              "\n",
              "    <script>\n",
              "      const buttonEl =\n",
              "        document.querySelector('#df-93c17e18-073a-436d-ac8f-115af45ced47 button.colab-df-convert');\n",
              "      buttonEl.style.display =\n",
              "        google.colab.kernel.accessAllowed ? 'block' : 'none';\n",
              "\n",
              "      async function convertToInteractive(key) {\n",
              "        const element = document.querySelector('#df-93c17e18-073a-436d-ac8f-115af45ced47');\n",
              "        const dataTable =\n",
              "          await google.colab.kernel.invokeFunction('convertToInteractive',\n",
              "                                                    [key], {});\n",
              "        if (!dataTable) return;\n",
              "\n",
              "        const docLinkHtml = 'Like what you see? Visit the ' +\n",
              "          '<a target=\"_blank\" href=https://colab.research.google.com/notebooks/data_table.ipynb>data table notebook</a>'\n",
              "          + ' to learn more about interactive tables.';\n",
              "        element.innerHTML = '';\n",
              "        dataTable['output_type'] = 'display_data';\n",
              "        await google.colab.output.renderOutput(dataTable, element);\n",
              "        const docLink = document.createElement('div');\n",
              "        docLink.innerHTML = docLinkHtml;\n",
              "        element.appendChild(docLink);\n",
              "      }\n",
              "    </script>\n",
              "  </div>\n",
              "\n",
              "\n",
              "    <div id=\"df-ef62a457-7c1d-44bd-8571-7688190e7d77\">\n",
              "      <button class=\"colab-df-quickchart\" onclick=\"quickchart('df-ef62a457-7c1d-44bd-8571-7688190e7d77')\"\n",
              "                title=\"Suggest charts\"\n",
              "                style=\"display:none;\">\n",
              "\n",
              "<svg xmlns=\"http://www.w3.org/2000/svg\" height=\"24px\"viewBox=\"0 0 24 24\"\n",
              "     width=\"24px\">\n",
              "    <g>\n",
              "        <path d=\"M19 3H5c-1.1 0-2 .9-2 2v14c0 1.1.9 2 2 2h14c1.1 0 2-.9 2-2V5c0-1.1-.9-2-2-2zM9 17H7v-7h2v7zm4 0h-2V7h2v10zm4 0h-2v-4h2v4z\"/>\n",
              "    </g>\n",
              "</svg>\n",
              "      </button>\n",
              "\n",
              "<style>\n",
              "  .colab-df-quickchart {\n",
              "      --bg-color: #E8F0FE;\n",
              "      --fill-color: #1967D2;\n",
              "      --hover-bg-color: #E2EBFA;\n",
              "      --hover-fill-color: #174EA6;\n",
              "      --disabled-fill-color: #AAA;\n",
              "      --disabled-bg-color: #DDD;\n",
              "  }\n",
              "\n",
              "  [theme=dark] .colab-df-quickchart {\n",
              "      --bg-color: #3B4455;\n",
              "      --fill-color: #D2E3FC;\n",
              "      --hover-bg-color: #434B5C;\n",
              "      --hover-fill-color: #FFFFFF;\n",
              "      --disabled-bg-color: #3B4455;\n",
              "      --disabled-fill-color: #666;\n",
              "  }\n",
              "\n",
              "  .colab-df-quickchart {\n",
              "    background-color: var(--bg-color);\n",
              "    border: none;\n",
              "    border-radius: 50%;\n",
              "    cursor: pointer;\n",
              "    display: none;\n",
              "    fill: var(--fill-color);\n",
              "    height: 32px;\n",
              "    padding: 0;\n",
              "    width: 32px;\n",
              "  }\n",
              "\n",
              "  .colab-df-quickchart:hover {\n",
              "    background-color: var(--hover-bg-color);\n",
              "    box-shadow: 0 1px 2px rgba(60, 64, 67, 0.3), 0 1px 3px 1px rgba(60, 64, 67, 0.15);\n",
              "    fill: var(--button-hover-fill-color);\n",
              "  }\n",
              "\n",
              "  .colab-df-quickchart-complete:disabled,\n",
              "  .colab-df-quickchart-complete:disabled:hover {\n",
              "    background-color: var(--disabled-bg-color);\n",
              "    fill: var(--disabled-fill-color);\n",
              "    box-shadow: none;\n",
              "  }\n",
              "\n",
              "  .colab-df-spinner {\n",
              "    border: 2px solid var(--fill-color);\n",
              "    border-color: transparent;\n",
              "    border-bottom-color: var(--fill-color);\n",
              "    animation:\n",
              "      spin 1s steps(1) infinite;\n",
              "  }\n",
              "\n",
              "  @keyframes spin {\n",
              "    0% {\n",
              "      border-color: transparent;\n",
              "      border-bottom-color: var(--fill-color);\n",
              "      border-left-color: var(--fill-color);\n",
              "    }\n",
              "    20% {\n",
              "      border-color: transparent;\n",
              "      border-left-color: var(--fill-color);\n",
              "      border-top-color: var(--fill-color);\n",
              "    }\n",
              "    30% {\n",
              "      border-color: transparent;\n",
              "      border-left-color: var(--fill-color);\n",
              "      border-top-color: var(--fill-color);\n",
              "      border-right-color: var(--fill-color);\n",
              "    }\n",
              "    40% {\n",
              "      border-color: transparent;\n",
              "      border-right-color: var(--fill-color);\n",
              "      border-top-color: var(--fill-color);\n",
              "    }\n",
              "    60% {\n",
              "      border-color: transparent;\n",
              "      border-right-color: var(--fill-color);\n",
              "    }\n",
              "    80% {\n",
              "      border-color: transparent;\n",
              "      border-right-color: var(--fill-color);\n",
              "      border-bottom-color: var(--fill-color);\n",
              "    }\n",
              "    90% {\n",
              "      border-color: transparent;\n",
              "      border-bottom-color: var(--fill-color);\n",
              "    }\n",
              "  }\n",
              "</style>\n",
              "\n",
              "      <script>\n",
              "        async function quickchart(key) {\n",
              "          const quickchartButtonEl =\n",
              "            document.querySelector('#' + key + ' button');\n",
              "          quickchartButtonEl.disabled = true;  // To prevent multiple clicks.\n",
              "          quickchartButtonEl.classList.add('colab-df-spinner');\n",
              "          try {\n",
              "            const charts = await google.colab.kernel.invokeFunction(\n",
              "                'suggestCharts', [key], {});\n",
              "          } catch (error) {\n",
              "            console.error('Error during call to suggestCharts:', error);\n",
              "          }\n",
              "          quickchartButtonEl.classList.remove('colab-df-spinner');\n",
              "          quickchartButtonEl.classList.add('colab-df-quickchart-complete');\n",
              "        }\n",
              "        (() => {\n",
              "          let quickchartButtonEl =\n",
              "            document.querySelector('#df-ef62a457-7c1d-44bd-8571-7688190e7d77 button');\n",
              "          quickchartButtonEl.style.display =\n",
              "            google.colab.kernel.accessAllowed ? 'block' : 'none';\n",
              "        })();\n",
              "      </script>\n",
              "    </div>\n",
              "\n",
              "    </div>\n",
              "  </div>\n"
            ],
            "application/vnd.google.colaboratory.intrinsic+json": {
              "type": "dataframe",
              "variable_name": "df"
            }
          },
          "metadata": {},
          "execution_count": 15
        }
      ]
    },
    {
      "cell_type": "code",
      "source": [
        "# Visualización de resultados\n",
        "\n",
        "if 'RENDIMIENTO_GLOBAL' in df.columns: # Se asegura que la variable exista\n",
        "    plt.figure(figsize=(8,5))\n",
        "    sns.histplot(df['RENDIMIENTO_GLOBAL'], kde=True, bins=30, color='skyblue')\n",
        "    plt.title('Distribución de RENDIMIENTO_GLOBAL (Post Limpieza)')\n",
        "    plt.grid(True)\n",
        "    plt.show()"
      ],
      "metadata": {
        "id": "YuQPP4YCyv9m",
        "colab": {
          "base_uri": "https://localhost:8080/",
          "height": 488
        },
        "outputId": "357adfc0-e7a3-4a48-c742-b7ac4c364acd"
      },
      "execution_count": null,
      "outputs": [
        {
          "output_type": "display_data",
          "data": {
            "text/plain": [
              "<Figure size 800x500 with 1 Axes>"
            ],
            "image/png": "[encoded data removed]"
          },
          "metadata": {}
        }
      ]
    }
  ]
}